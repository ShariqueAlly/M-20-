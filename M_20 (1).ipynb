{
  "nbformat": 4,
  "nbformat_minor": 0,
  "metadata": {
    "colab": {
      "provenance": []
    },
    "kernelspec": {
      "name": "python3",
      "display_name": "Python 3"
    },
    "language_info": {
      "name": "python"
    }
  },
  "cells": [
    {
      "cell_type": "code",
      "execution_count": null,
      "metadata": {
        "id": "azXWArYiuSqC"
      },
      "outputs": [],
      "source": [
        "#Q-1\n",
        "\n",
        "// Blocking task: a long loop that blocks the event loop\n",
        "function blockingTask() {\n",
        "    console.log(\"Blocking task started\");\n",
        "    const end = Date.now() + 5000; // block for 5 seconds\n",
        "    while (Date.now() < end) {\n",
        "        // busy wait\n",
        "    }\n",
        "    console.log(\"Blocking task ended\");\n",
        "}\n",
        "\n",
        "// Async task: waits for a resolved promise\n",
        "async function asyncTask() {\n",
        "\n",
        "    console.log(\"Async task waiting for promise...\");\n",
        "    await Promise.resolve();\n",
        "    console.log(\"Async task completed\");\n",
        "}\n",
        "\n",
        "// Start both tasks\n",
        "blockingTask();\n",
        "asyncTask();\n"
      ]
    },
    {
      "cell_type": "code",
      "source": [
        "#Q-2\n",
        "A.\n",
        "JavaScript was designed to run in web browsers to make interactions like form validation and page rendering simpler. Running code synchronously means that it executes in order, one line after another, which makes it easier to understand and predict.\n",
        "\n",
        "If JavaScript executed asynchronously by default, it would be harder to write, debug, and reason about because:\n",
        "\n",
        "Operations would not necessarily complete in the order written.\n",
        "\n",
        "Shared resources could be accessed unpredictably.\n",
        "\n",
        "Developers would need to manage concurrency and race conditions all the time.\n",
        "\n",
        "Instead, JavaScript executes synchronously and relies on asynchronous constructs like setTimeout, AJAX, and promises only when needed, using an event loop to handle them without blocking the main thread.\n",
        "\n",
        " B.\n",
        " console.log(\"Start\");\n",
        "\n",
        "function firstTask() {\n",
        "    console.log(\"First task executed\");\n",
        "}\n",
        "\n",
        "function secondTask() {\n",
        "    console.log(\"Second task executed\");\n",
        "}\n",
        "\n",
        "firstTask();\n",
        "secondTask();\n",
        "\n",
        "console.log(\"End\");\n"
      ],
      "metadata": {
        "id": "9ePkPBQlujfp"
      },
      "execution_count": null,
      "outputs": []
    },
    {
      "cell_type": "code",
      "source": [
        "#Q-3\n",
        "function delay(time) {\n",
        "    return new Promise(resolve => setTimeout(resolve, time));\n",
        "}\n",
        "\n",
        "delay(1000)\n",
        "    .then(() => {\n",
        "        console.log(\"First message after 1 second\");\n",
        "        return delay(1000);\n",
        "    })\n",
        "    .then(() => {\n",
        "        console.log(\"Second message after 2 seconds\");\n",
        "        return delay(1000);\n",
        "    })\n",
        "    .then(() => {\n",
        "        console.log(\"Third message after 3 seconds\");\n",
        "    });\n"
      ],
      "metadata": {
        "id": "xU8VmP68vMPx"
      },
      "execution_count": null,
      "outputs": []
    },
    {
      "cell_type": "code",
      "source": [
        "#Q-4\n",
        "A JavaScript Promise has three states, and it transitions between them as follows:\n",
        "\n",
        "Pending –\n",
        "The initial state of a promise. The operation hasn’t completed yet, and neither resolved nor rejected.\n",
        "\n",
        "Fulfilled (Resolved) –\n",
        "The operation completed successfully, and the promise has a result value.\n",
        "\n",
        "Rejected –\n",
        "The operation failed, and the promise has a reason (error).\n",
        "\n",
        "State Transitions:\n",
        "\n",
        "Pending → Fulfilled\n",
        "When the operation succeeds and resolve() is called.\n",
        "\n",
        "Pending → Rejected\n",
        "When the operation fails and reject() is called.\n",
        "\n",
        "Once a promise transitions to either fulfilled or rejected, it becomes settled, and its state can’t change afterward."
      ],
      "metadata": {
        "id": "cfOZCYWnvWqx"
      },
      "execution_count": null,
      "outputs": []
    },
    {
      "cell_type": "code",
      "source": [
        "#Q-5\n",
        "\n",
        "Both Promise callbacks and setTimeout callbacks are asynchronous, but they are handled by the event loop in different phases.\n",
        "\n",
        "▶ setTimeout\n",
        "\n",
        "setTimeout schedules a callback to run after the specified delay.\n",
        "\n",
        "It is handled in the Timers phase of the event loop.\n",
        "\n",
        "The callback is placed in the callback queue and waits until the call stack is empty and the delay has passed.\n",
        "\n",
        "▶ Promise\n",
        "\n",
        "Promise callbacks (.then, .catch, .finally) are handled in the microtask queue (also called the jobs queue).\n",
        "\n",
        "Microtasks are executed immediately after the current operation finishes, before returning to the event loop’s other phases like Timers or I/O.\n",
        "\n",
        "This means that promise callbacks run before setTimeout callbacks, even if setTimeout has a delay of 0 ms."
      ],
      "metadata": {
        "id": "hd7Hh7B7vq_T"
      },
      "execution_count": null,
      "outputs": []
    }
  ]
}